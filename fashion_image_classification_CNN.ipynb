{
  "cells": [
    {
      "cell_type": "markdown",
      "metadata": {
        "id": "oLufE3GabO0H"
      },
      "source": [
        "## Import the Libraries"
      ]
    },
    {
      "cell_type": "code",
      "execution_count": 1,
      "metadata": {
        "colab": {
          "base_uri": "https://localhost:8080/"
        },
        "id": "LRFc1bsmbHqq",
        "outputId": "7add4f7a-d8ae-4d73-e0ee-96dda639340a"
      },
      "outputs": [
        {
          "name": "stdout",
          "output_type": "stream",
          "text": [
            "Requirement already satisfied: timm in b:\\bht study\\sem 2\\data science workflowapplications 2\\project\\fashion style classifier\\venv\\lib\\site-packages (1.0.17)\n",
            "Requirement already satisfied: torch in b:\\bht study\\sem 2\\data science workflowapplications 2\\project\\fashion style classifier\\venv\\lib\\site-packages (2.7.1)\n",
            "Requirement already satisfied: torchvision in b:\\bht study\\sem 2\\data science workflowapplications 2\\project\\fashion style classifier\\venv\\lib\\site-packages (0.22.1)\n",
            "Requirement already satisfied: pyyaml in b:\\bht study\\sem 2\\data science workflowapplications 2\\project\\fashion style classifier\\venv\\lib\\site-packages (from timm) (6.0.2)\n",
            "Requirement already satisfied: huggingface_hub in b:\\bht study\\sem 2\\data science workflowapplications 2\\project\\fashion style classifier\\venv\\lib\\site-packages (from timm) (0.33.4)\n",
            "Requirement already satisfied: safetensors in b:\\bht study\\sem 2\\data science workflowapplications 2\\project\\fashion style classifier\\venv\\lib\\site-packages (from timm) (0.5.3)\n",
            "Requirement already satisfied: filelock in b:\\bht study\\sem 2\\data science workflowapplications 2\\project\\fashion style classifier\\venv\\lib\\site-packages (from torch) (3.18.0)\n",
            "Requirement already satisfied: typing-extensions>=4.10.0 in b:\\bht study\\sem 2\\data science workflowapplications 2\\project\\fashion style classifier\\venv\\lib\\site-packages (from torch) (4.14.1)\n",
            "Requirement already satisfied: sympy>=1.13.3 in b:\\bht study\\sem 2\\data science workflowapplications 2\\project\\fashion style classifier\\venv\\lib\\site-packages (from torch) (1.14.0)\n",
            "Requirement already satisfied: networkx in b:\\bht study\\sem 2\\data science workflowapplications 2\\project\\fashion style classifier\\venv\\lib\\site-packages (from torch) (3.5)\n",
            "Requirement already satisfied: jinja2 in b:\\bht study\\sem 2\\data science workflowapplications 2\\project\\fashion style classifier\\venv\\lib\\site-packages (from torch) (3.1.6)\n",
            "Requirement already satisfied: fsspec in b:\\bht study\\sem 2\\data science workflowapplications 2\\project\\fashion style classifier\\venv\\lib\\site-packages (from torch) (2025.7.0)\n",
            "Requirement already satisfied: numpy in b:\\bht study\\sem 2\\data science workflowapplications 2\\project\\fashion style classifier\\venv\\lib\\site-packages (from torchvision) (1.26.4)\n",
            "Requirement already satisfied: pillow!=8.3.*,>=5.3.0 in b:\\bht study\\sem 2\\data science workflowapplications 2\\project\\fashion style classifier\\venv\\lib\\site-packages (from torchvision) (11.3.0)\n",
            "Requirement already satisfied: mpmath<1.4,>=1.1.0 in b:\\bht study\\sem 2\\data science workflowapplications 2\\project\\fashion style classifier\\venv\\lib\\site-packages (from sympy>=1.13.3->torch) (1.3.0)\n",
            "Requirement already satisfied: packaging>=20.9 in b:\\bht study\\sem 2\\data science workflowapplications 2\\project\\fashion style classifier\\venv\\lib\\site-packages (from huggingface_hub->timm) (25.0)\n",
            "Requirement already satisfied: requests in b:\\bht study\\sem 2\\data science workflowapplications 2\\project\\fashion style classifier\\venv\\lib\\site-packages (from huggingface_hub->timm) (2.32.4)\n",
            "Requirement already satisfied: tqdm>=4.42.1 in b:\\bht study\\sem 2\\data science workflowapplications 2\\project\\fashion style classifier\\venv\\lib\\site-packages (from huggingface_hub->timm) (4.67.1)\n",
            "Requirement already satisfied: MarkupSafe>=2.0 in b:\\bht study\\sem 2\\data science workflowapplications 2\\project\\fashion style classifier\\venv\\lib\\site-packages (from jinja2->torch) (3.0.2)\n",
            "Requirement already satisfied: colorama in b:\\bht study\\sem 2\\data science workflowapplications 2\\project\\fashion style classifier\\venv\\lib\\site-packages (from tqdm>=4.42.1->huggingface_hub->timm) (0.4.6)\n",
            "Requirement already satisfied: charset_normalizer<4,>=2 in b:\\bht study\\sem 2\\data science workflowapplications 2\\project\\fashion style classifier\\venv\\lib\\site-packages (from requests->huggingface_hub->timm) (3.4.2)\n",
            "Requirement already satisfied: idna<4,>=2.5 in b:\\bht study\\sem 2\\data science workflowapplications 2\\project\\fashion style classifier\\venv\\lib\\site-packages (from requests->huggingface_hub->timm) (3.10)\n",
            "Requirement already satisfied: urllib3<3,>=1.21.1 in b:\\bht study\\sem 2\\data science workflowapplications 2\\project\\fashion style classifier\\venv\\lib\\site-packages (from requests->huggingface_hub->timm) (1.26.20)\n",
            "Requirement already satisfied: certifi>=2017.4.17 in b:\\bht study\\sem 2\\data science workflowapplications 2\\project\\fashion style classifier\\venv\\lib\\site-packages (from requests->huggingface_hub->timm) (2025.7.9)\n"
          ]
        },
        {
          "name": "stderr",
          "output_type": "stream",
          "text": [
            "\n",
            "[notice] A new release of pip is available: 24.0 -> 25.1.1\n",
            "[notice] To update, run: python.exe -m pip install --upgrade pip\n"
          ]
        }
      ],
      "source": [
        "!pip install timm torch torchvision"
      ]
    },
    {
      "cell_type": "code",
      "execution_count": 2,
      "metadata": {
        "id": "PUHaOFRjhcye"
      },
      "outputs": [],
      "source": [
        "import timm\n",
        "import torch\n",
        "import torch.nn as nn\n",
        "from torchvision import datasets, transforms\n",
        "from torch.utils.data import DataLoader, random_split\n",
        "\n",
        "import torch.optim as optim\n",
        "from torch.nn import CrossEntropyLoss\n",
        "from tqdm import tqdm"
      ]
    },
    {
      "cell_type": "code",
      "execution_count": 3,
      "metadata": {
        "id": "-j8zoc0Z90oz"
      },
      "outputs": [],
      "source": [
        "import pandas as pd\n",
        "import os\n",
        "from sklearn.preprocessing import LabelEncoder\n",
        "\n",
        "label_file = pd.read_csv('Dataset/labels_file.csv')\n",
        "label_file_clean = label_file.dropna(subset=['choice'])\n",
        "\n",
        "# Extract and clean\n",
        "image_paths = label_file_clean['image'].apply(os.path.basename).tolist()\n",
        "labels = label_file_clean['choice'].tolist()\n",
        "\n",
        "# Encode labels (e.g., casual → 0, streetwear → 1, etc.)\n",
        "label_encoder = LabelEncoder()\n",
        "encoded_labels = label_encoder.fit_transform(labels)  # numpy array of integers\n"
      ]
    },
    {
      "cell_type": "code",
      "execution_count": 4,
      "metadata": {
        "id": "6ypiDRKuhQlJ"
      },
      "outputs": [],
      "source": [
        "from PIL import Image\n",
        "from torch.utils.data import Dataset\n",
        "\n",
        "class FashionCSVDataset(Dataset):\n",
        "    def __init__(self, image_paths, labels, image_dir, transform=None):\n",
        "        self.image_paths = image_paths\n",
        "        self.labels = labels\n",
        "        self.image_dir = image_dir\n",
        "        self.transform = transform\n",
        "\n",
        "    def __len__(self):\n",
        "        return len(self.image_paths)\n",
        "\n",
        "    def __getitem__(self, idx):\n",
        "        img_path = os.path.join(self.image_dir, self.image_paths[idx])\n",
        "        image = Image.open(img_path).convert(\"RGB\")\n",
        "        label = self.labels[idx]\n",
        "\n",
        "        if self.transform:\n",
        "            image = self.transform(image)\n",
        "\n",
        "        return image, label\n"
      ]
    },
    {
      "cell_type": "code",
      "execution_count": 5,
      "metadata": {
        "id": "DZAg6Jyx-M7-"
      },
      "outputs": [],
      "source": [
        "from sklearn.model_selection import train_test_split\n",
        "from torchvision import transforms\n",
        "from torch.utils.data import DataLoader\n",
        "\n",
        "# Split first\n",
        "train_paths, val_paths, train_labels, val_labels = train_test_split(\n",
        "    image_paths, encoded_labels, test_size=0.2, stratify=encoded_labels, random_state=42\n",
        ")\n",
        "\n",
        "# Transforms\n",
        "train_transform = transforms.Compose([\n",
        "    transforms.Resize((224, 224)),\n",
        "    transforms.RandomHorizontalFlip(),\n",
        "    transforms.RandomRotation(10),\n",
        "    transforms.ColorJitter(brightness=0.2, contrast=0.2, saturation=0.2),\n",
        "    transforms.ToTensor(),\n",
        "    transforms.Normalize([0.5]*3, [0.5]*3),\n",
        "])\n",
        "\n",
        "val_transform = transforms.Compose([\n",
        "    transforms.Resize((224, 224)),\n",
        "    transforms.ToTensor(),\n",
        "    transforms.Normalize([0.5]*3, [0.5]*3),\n",
        "])\n",
        "\n",
        "# Dataset instances (only once — your previous code had duplicates)\n",
        "image_dir = \"Dataset/images\"\n",
        "\n",
        "train_dataset = FashionCSVDataset(train_paths, train_labels, image_dir, train_transform)\n",
        "val_dataset   = FashionCSVDataset(val_paths, val_labels, image_dir, val_transform)\n",
        "\n",
        "# Loaders\n",
        "train_loader = DataLoader(train_dataset, batch_size=32, shuffle=True)\n",
        "val_loader   = DataLoader(val_dataset, batch_size=32)\n"
      ]
    },
    {
      "cell_type": "code",
      "execution_count": 6,
      "metadata": {
        "colab": {
          "base_uri": "https://localhost:8080/"
        },
        "id": "yWuBl-Z5-aGS",
        "outputId": "41ed8997-866c-4234-b114-d67f1064f470"
      },
      "outputs": [
        {
          "data": {
            "application/vnd.jupyter.widget-view+json": {
              "model_id": "718326949adb4060b47417da185c84d3",
              "version_major": 2,
              "version_minor": 0
            },
            "text/plain": [
              "model.safetensors:   0%|          | 0.00/21.4M [00:00<?, ?B/s]"
            ]
          },
          "metadata": {},
          "output_type": "display_data"
        },
        {
          "name": "stderr",
          "output_type": "stream",
          "text": [
            "b:\\BHT Study\\SEM 2\\Data Science WorkflowApplications 2\\project\\Fashion Style Classifier\\venv\\Lib\\site-packages\\huggingface_hub\\file_download.py:143: UserWarning: `huggingface_hub` cache-system uses symlinks by default to efficiently store duplicated files but your machine does not support them in C:\\Users\\ravis\\.cache\\huggingface\\hub\\models--timm--efficientnet_b0.ra_in1k. Caching files will still work but in a degraded version that might require more space on your disk. This warning can be disabled by setting the `HF_HUB_DISABLE_SYMLINKS_WARNING` environment variable. For more details, see https://huggingface.co/docs/huggingface_hub/how-to-cache#limitations.\n",
            "To support symlinks on Windows, you either need to activate Developer Mode or to run Python as an administrator. In order to activate developer mode, see this article: https://docs.microsoft.com/en-us/windows/apps/get-started/enable-your-device-for-development\n",
            "  warnings.warn(message)\n"
          ]
        }
      ],
      "source": [
        "import timm\n",
        "import torch.nn as nn\n",
        "import torch\n",
        "\n",
        "# Load EfficientNet with pretrained ImageNet weights\n",
        "model = timm.create_model('efficientnet_b0', pretrained=True)\n",
        "\n",
        "# Replace classifier head\n",
        "num_classes = len(set(encoded_labels))  # e.g., 5 styles\n",
        "model.classifier = nn.Sequential(\n",
        "    nn.Dropout(0.3),\n",
        "    nn.Linear(model.classifier.in_features, num_classes)\n",
        ")\n",
        "\n",
        "# Move to GPU if available\n",
        "device = torch.device(\"cuda\" if torch.cuda.is_available() else \"cpu\")\n",
        "model = model.to(device)\n",
        "\n"
      ]
    },
    {
      "cell_type": "code",
      "execution_count": 7,
      "metadata": {
        "id": "2dSv5K72-brS"
      },
      "outputs": [],
      "source": [
        "criterion = CrossEntropyLoss()\n",
        "optimizer = optim.Adam(model.parameters(), lr=1e-4)"
      ]
    },
    {
      "cell_type": "code",
      "execution_count": 8,
      "metadata": {
        "colab": {
          "base_uri": "https://localhost:8080/"
        },
        "id": "erJNr0zC-gdm",
        "outputId": "702ea4ec-8010-44d7-d5b0-9800f2b2f964"
      },
      "outputs": [
        {
          "name": "stderr",
          "output_type": "stream",
          "text": [
            "Epoch 1/20: 100%|██████████| 15/15 [00:54<00:00,  3.65s/it]\n"
          ]
        },
        {
          "name": "stdout",
          "output_type": "stream",
          "text": [
            "Train Loss: 1.6192 | Train Acc: 22.80%\n",
            "Val Loss: 1.5492 | Val Acc: 35.90%\n",
            "\n",
            "              precision    recall  f1-score   support\n",
            "\n",
            "      casual       0.29      0.13      0.18        30\n",
            "      formal       0.31      0.33      0.32        24\n",
            "      sporty       0.00      0.00      0.00        10\n",
            "  streetwear       0.48      0.76      0.59        37\n",
            "     vintage       0.22      0.12      0.16        16\n",
            "\n",
            "    accuracy                           0.36       117\n",
            "   macro avg       0.26      0.27      0.25       117\n",
            "weighted avg       0.32      0.36      0.32       117\n",
            "\n"
          ]
        },
        {
          "name": "stderr",
          "output_type": "stream",
          "text": [
            "Epoch 2/20: 100%|██████████| 15/15 [00:45<00:00,  3.04s/it]\n"
          ]
        },
        {
          "name": "stdout",
          "output_type": "stream",
          "text": [
            "Train Loss: 1.4377 | Train Acc: 46.67%\n",
            "Val Loss: 1.4774 | Val Acc: 43.59%\n",
            "\n",
            "              precision    recall  f1-score   support\n",
            "\n",
            "      casual       0.33      0.20      0.25        30\n",
            "      formal       0.61      0.46      0.52        24\n",
            "      sporty       0.00      0.00      0.00        10\n",
            "  streetwear       0.44      0.89      0.59        37\n",
            "     vintage       0.25      0.06      0.10        16\n",
            "\n",
            "    accuracy                           0.44       117\n",
            "   macro avg       0.33      0.32      0.29       117\n",
            "weighted avg       0.38      0.44      0.37       117\n",
            "\n"
          ]
        },
        {
          "name": "stderr",
          "output_type": "stream",
          "text": [
            "Epoch 3/20: 100%|██████████| 15/15 [00:44<00:00,  2.99s/it]\n"
          ]
        },
        {
          "name": "stdout",
          "output_type": "stream",
          "text": [
            "Train Loss: 1.2916 | Train Acc: 57.20%\n",
            "Val Loss: 1.4456 | Val Acc: 44.44%\n",
            "\n",
            "              precision    recall  f1-score   support\n",
            "\n",
            "      casual       0.38      0.20      0.26        30\n",
            "      formal       0.57      0.50      0.53        24\n",
            "      sporty       0.00      0.00      0.00        10\n",
            "  streetwear       0.44      0.89      0.59        37\n",
            "     vintage       0.25      0.06      0.10        16\n",
            "\n",
            "    accuracy                           0.44       117\n",
            "   macro avg       0.33      0.33      0.30       117\n",
            "weighted avg       0.39      0.44      0.38       117\n",
            "\n"
          ]
        },
        {
          "name": "stderr",
          "output_type": "stream",
          "text": [
            "Epoch 4/20: 100%|██████████| 15/15 [00:44<00:00,  2.96s/it]\n"
          ]
        },
        {
          "name": "stdout",
          "output_type": "stream",
          "text": [
            "Train Loss: 1.1573 | Train Acc: 64.30%\n",
            "Val Loss: 1.4149 | Val Acc: 45.30%\n",
            "\n"
          ]
        },
        {
          "name": "stderr",
          "output_type": "stream",
          "text": [
            "b:\\BHT Study\\SEM 2\\Data Science WorkflowApplications 2\\project\\Fashion Style Classifier\\venv\\Lib\\site-packages\\sklearn\\metrics\\_classification.py:1706: UndefinedMetricWarning: Precision is ill-defined and being set to 0.0 in labels with no predicted samples. Use `zero_division` parameter to control this behavior.\n",
            "  _warn_prf(average, modifier, f\"{metric.capitalize()} is\", result.shape[0])\n",
            "b:\\BHT Study\\SEM 2\\Data Science WorkflowApplications 2\\project\\Fashion Style Classifier\\venv\\Lib\\site-packages\\sklearn\\metrics\\_classification.py:1706: UndefinedMetricWarning: Precision is ill-defined and being set to 0.0 in labels with no predicted samples. Use `zero_division` parameter to control this behavior.\n",
            "  _warn_prf(average, modifier, f\"{metric.capitalize()} is\", result.shape[0])\n",
            "b:\\BHT Study\\SEM 2\\Data Science WorkflowApplications 2\\project\\Fashion Style Classifier\\venv\\Lib\\site-packages\\sklearn\\metrics\\_classification.py:1706: UndefinedMetricWarning: Precision is ill-defined and being set to 0.0 in labels with no predicted samples. Use `zero_division` parameter to control this behavior.\n",
            "  _warn_prf(average, modifier, f\"{metric.capitalize()} is\", result.shape[0])\n"
          ]
        },
        {
          "name": "stdout",
          "output_type": "stream",
          "text": [
            "              precision    recall  f1-score   support\n",
            "\n",
            "      casual       0.31      0.17      0.22        30\n",
            "      formal       0.59      0.54      0.57        24\n",
            "      sporty       0.00      0.00      0.00        10\n",
            "  streetwear       0.45      0.92      0.61        37\n",
            "     vintage       0.25      0.06      0.10        16\n",
            "\n",
            "    accuracy                           0.45       117\n",
            "   macro avg       0.32      0.34      0.30       117\n",
            "weighted avg       0.38      0.45      0.38       117\n",
            "\n"
          ]
        },
        {
          "name": "stderr",
          "output_type": "stream",
          "text": [
            "Epoch 5/20: 100%|██████████| 15/15 [00:45<00:00,  3.01s/it]\n"
          ]
        },
        {
          "name": "stdout",
          "output_type": "stream",
          "text": [
            "Train Loss: 1.0120 | Train Acc: 73.55%\n",
            "Val Loss: 1.4092 | Val Acc: 45.30%\n",
            "\n"
          ]
        },
        {
          "name": "stderr",
          "output_type": "stream",
          "text": [
            "b:\\BHT Study\\SEM 2\\Data Science WorkflowApplications 2\\project\\Fashion Style Classifier\\venv\\Lib\\site-packages\\sklearn\\metrics\\_classification.py:1706: UndefinedMetricWarning: Precision is ill-defined and being set to 0.0 in labels with no predicted samples. Use `zero_division` parameter to control this behavior.\n",
            "  _warn_prf(average, modifier, f\"{metric.capitalize()} is\", result.shape[0])\n",
            "b:\\BHT Study\\SEM 2\\Data Science WorkflowApplications 2\\project\\Fashion Style Classifier\\venv\\Lib\\site-packages\\sklearn\\metrics\\_classification.py:1706: UndefinedMetricWarning: Precision is ill-defined and being set to 0.0 in labels with no predicted samples. Use `zero_division` parameter to control this behavior.\n",
            "  _warn_prf(average, modifier, f\"{metric.capitalize()} is\", result.shape[0])\n",
            "b:\\BHT Study\\SEM 2\\Data Science WorkflowApplications 2\\project\\Fashion Style Classifier\\venv\\Lib\\site-packages\\sklearn\\metrics\\_classification.py:1706: UndefinedMetricWarning: Precision is ill-defined and being set to 0.0 in labels with no predicted samples. Use `zero_division` parameter to control this behavior.\n",
            "  _warn_prf(average, modifier, f\"{metric.capitalize()} is\", result.shape[0])\n"
          ]
        },
        {
          "name": "stdout",
          "output_type": "stream",
          "text": [
            "              precision    recall  f1-score   support\n",
            "\n",
            "      casual       0.29      0.17      0.21        30\n",
            "      formal       0.54      0.54      0.54        24\n",
            "      sporty       0.00      0.00      0.00        10\n",
            "  streetwear       0.47      0.89      0.62        37\n",
            "     vintage       0.33      0.12      0.18        16\n",
            "\n",
            "    accuracy                           0.45       117\n",
            "   macro avg       0.33      0.35      0.31       117\n",
            "weighted avg       0.38      0.45      0.39       117\n",
            "\n"
          ]
        },
        {
          "name": "stderr",
          "output_type": "stream",
          "text": [
            "Epoch 6/20: 100%|██████████| 15/15 [00:45<00:00,  3.01s/it]\n"
          ]
        },
        {
          "name": "stdout",
          "output_type": "stream",
          "text": [
            "Train Loss: 0.8705 | Train Acc: 79.14%\n",
            "Val Loss: 1.3939 | Val Acc: 43.59%\n",
            "\n"
          ]
        },
        {
          "name": "stderr",
          "output_type": "stream",
          "text": [
            "b:\\BHT Study\\SEM 2\\Data Science WorkflowApplications 2\\project\\Fashion Style Classifier\\venv\\Lib\\site-packages\\sklearn\\metrics\\_classification.py:1706: UndefinedMetricWarning: Precision is ill-defined and being set to 0.0 in labels with no predicted samples. Use `zero_division` parameter to control this behavior.\n",
            "  _warn_prf(average, modifier, f\"{metric.capitalize()} is\", result.shape[0])\n",
            "b:\\BHT Study\\SEM 2\\Data Science WorkflowApplications 2\\project\\Fashion Style Classifier\\venv\\Lib\\site-packages\\sklearn\\metrics\\_classification.py:1706: UndefinedMetricWarning: Precision is ill-defined and being set to 0.0 in labels with no predicted samples. Use `zero_division` parameter to control this behavior.\n",
            "  _warn_prf(average, modifier, f\"{metric.capitalize()} is\", result.shape[0])\n",
            "b:\\BHT Study\\SEM 2\\Data Science WorkflowApplications 2\\project\\Fashion Style Classifier\\venv\\Lib\\site-packages\\sklearn\\metrics\\_classification.py:1706: UndefinedMetricWarning: Precision is ill-defined and being set to 0.0 in labels with no predicted samples. Use `zero_division` parameter to control this behavior.\n",
            "  _warn_prf(average, modifier, f\"{metric.capitalize()} is\", result.shape[0])\n"
          ]
        },
        {
          "name": "stdout",
          "output_type": "stream",
          "text": [
            "              precision    recall  f1-score   support\n",
            "\n",
            "      casual       0.33      0.23      0.27        30\n",
            "      formal       0.48      0.58      0.53        24\n",
            "      sporty       0.00      0.00      0.00        10\n",
            "  streetwear       0.48      0.76      0.59        37\n",
            "     vintage       0.22      0.12      0.16        16\n",
            "\n",
            "    accuracy                           0.44       117\n",
            "   macro avg       0.30      0.34      0.31       117\n",
            "weighted avg       0.37      0.44      0.39       117\n",
            "\n"
          ]
        },
        {
          "name": "stderr",
          "output_type": "stream",
          "text": [
            "Epoch 7/20: 100%|██████████| 15/15 [00:47<00:00,  3.16s/it]\n"
          ]
        },
        {
          "name": "stdout",
          "output_type": "stream",
          "text": [
            "Train Loss: 0.6976 | Train Acc: 88.17%\n",
            "Val Loss: 1.3964 | Val Acc: 44.44%\n",
            "\n"
          ]
        },
        {
          "name": "stderr",
          "output_type": "stream",
          "text": [
            "b:\\BHT Study\\SEM 2\\Data Science WorkflowApplications 2\\project\\Fashion Style Classifier\\venv\\Lib\\site-packages\\sklearn\\metrics\\_classification.py:1706: UndefinedMetricWarning: Precision is ill-defined and being set to 0.0 in labels with no predicted samples. Use `zero_division` parameter to control this behavior.\n",
            "  _warn_prf(average, modifier, f\"{metric.capitalize()} is\", result.shape[0])\n",
            "b:\\BHT Study\\SEM 2\\Data Science WorkflowApplications 2\\project\\Fashion Style Classifier\\venv\\Lib\\site-packages\\sklearn\\metrics\\_classification.py:1706: UndefinedMetricWarning: Precision is ill-defined and being set to 0.0 in labels with no predicted samples. Use `zero_division` parameter to control this behavior.\n",
            "  _warn_prf(average, modifier, f\"{metric.capitalize()} is\", result.shape[0])\n",
            "b:\\BHT Study\\SEM 2\\Data Science WorkflowApplications 2\\project\\Fashion Style Classifier\\venv\\Lib\\site-packages\\sklearn\\metrics\\_classification.py:1706: UndefinedMetricWarning: Precision is ill-defined and being set to 0.0 in labels with no predicted samples. Use `zero_division` parameter to control this behavior.\n",
            "  _warn_prf(average, modifier, f\"{metric.capitalize()} is\", result.shape[0])\n"
          ]
        },
        {
          "name": "stdout",
          "output_type": "stream",
          "text": [
            "              precision    recall  f1-score   support\n",
            "\n",
            "      casual       0.36      0.27      0.31        30\n",
            "      formal       0.48      0.67      0.56        24\n",
            "      sporty       0.00      0.00      0.00        10\n",
            "  streetwear       0.51      0.70      0.59        37\n",
            "     vintage       0.18      0.12      0.15        16\n",
            "\n",
            "    accuracy                           0.44       117\n",
            "   macro avg       0.31      0.35      0.32       117\n",
            "weighted avg       0.38      0.44      0.40       117\n",
            "\n"
          ]
        },
        {
          "name": "stderr",
          "output_type": "stream",
          "text": [
            "Epoch 8/20: 100%|██████████| 15/15 [01:08<00:00,  4.58s/it]\n"
          ]
        },
        {
          "name": "stdout",
          "output_type": "stream",
          "text": [
            "Train Loss: 0.5783 | Train Acc: 89.68%\n",
            "Val Loss: 1.4123 | Val Acc: 43.59%\n",
            "\n",
            "              precision    recall  f1-score   support\n",
            "\n",
            "      casual       0.35      0.27      0.30        30\n",
            "      formal       0.46      0.54      0.50        24\n",
            "      sporty       0.00      0.00      0.00        10\n",
            "  streetwear       0.51      0.70      0.59        37\n",
            "     vintage       0.29      0.25      0.27        16\n",
            "\n",
            "    accuracy                           0.44       117\n",
            "   macro avg       0.32      0.35      0.33       117\n",
            "weighted avg       0.38      0.44      0.40       117\n",
            "\n"
          ]
        },
        {
          "name": "stderr",
          "output_type": "stream",
          "text": [
            "Epoch 9/20: 100%|██████████| 15/15 [01:09<00:00,  4.65s/it]\n"
          ]
        },
        {
          "name": "stdout",
          "output_type": "stream",
          "text": [
            "Train Loss: 0.4538 | Train Acc: 93.76%\n",
            "Val Loss: 1.4433 | Val Acc: 43.59%\n",
            "\n",
            "              precision    recall  f1-score   support\n",
            "\n",
            "      casual       0.42      0.47      0.44        30\n",
            "      formal       0.50      0.54      0.52        24\n",
            "      sporty       0.00      0.00      0.00        10\n",
            "  streetwear       0.50      0.57      0.53        37\n",
            "     vintage       0.21      0.19      0.20        16\n",
            "\n",
            "    accuracy                           0.44       117\n",
            "   macro avg       0.33      0.35      0.34       117\n",
            "weighted avg       0.40      0.44      0.42       117\n",
            "\n"
          ]
        },
        {
          "name": "stderr",
          "output_type": "stream",
          "text": [
            "Epoch 10/20: 100%|██████████| 15/15 [01:09<00:00,  4.61s/it]\n"
          ]
        },
        {
          "name": "stdout",
          "output_type": "stream",
          "text": [
            "Train Loss: 0.3510 | Train Acc: 96.77%\n",
            "Val Loss: 1.4808 | Val Acc: 40.17%\n",
            "\n",
            "              precision    recall  f1-score   support\n",
            "\n",
            "      casual       0.33      0.37      0.35        30\n",
            "      formal       0.55      0.50      0.52        24\n",
            "      sporty       0.00      0.00      0.00        10\n",
            "  streetwear       0.49      0.57      0.53        37\n",
            "     vintage       0.18      0.19      0.18        16\n",
            "\n",
            "    accuracy                           0.40       117\n",
            "   macro avg       0.31      0.32      0.32       117\n",
            "weighted avg       0.38      0.40      0.39       117\n",
            "\n"
          ]
        },
        {
          "name": "stderr",
          "output_type": "stream",
          "text": [
            "Epoch 11/20: 100%|██████████| 15/15 [01:09<00:00,  4.62s/it]\n"
          ]
        },
        {
          "name": "stdout",
          "output_type": "stream",
          "text": [
            "Train Loss: 0.2571 | Train Acc: 97.42%\n",
            "Val Loss: 1.5581 | Val Acc: 40.17%\n",
            "\n",
            "              precision    recall  f1-score   support\n",
            "\n",
            "      casual       0.36      0.30      0.33        30\n",
            "      formal       0.48      0.54      0.51        24\n",
            "      sporty       0.00      0.00      0.00        10\n",
            "  streetwear       0.49      0.59      0.54        37\n",
            "     vintage       0.17      0.19      0.18        16\n",
            "\n",
            "    accuracy                           0.40       117\n",
            "   macro avg       0.30      0.32      0.31       117\n",
            "weighted avg       0.37      0.40      0.38       117\n",
            "\n"
          ]
        },
        {
          "name": "stderr",
          "output_type": "stream",
          "text": [
            "Epoch 12/20: 100%|██████████| 15/15 [01:09<00:00,  4.61s/it]\n"
          ]
        },
        {
          "name": "stdout",
          "output_type": "stream",
          "text": [
            "Train Loss: 0.1954 | Train Acc: 99.14%\n",
            "Val Loss: 1.5682 | Val Acc: 38.46%\n",
            "\n",
            "              precision    recall  f1-score   support\n",
            "\n",
            "      casual       0.35      0.30      0.32        30\n",
            "      formal       0.54      0.54      0.54        24\n",
            "      sporty       0.00      0.00      0.00        10\n",
            "  streetwear       0.48      0.54      0.51        37\n",
            "     vintage       0.14      0.19      0.16        16\n",
            "\n",
            "    accuracy                           0.38       117\n",
            "   macro avg       0.30      0.31      0.31       117\n",
            "weighted avg       0.37      0.38      0.38       117\n",
            "\n"
          ]
        },
        {
          "name": "stderr",
          "output_type": "stream",
          "text": [
            "Epoch 13/20: 100%|██████████| 15/15 [01:08<00:00,  4.60s/it]\n"
          ]
        },
        {
          "name": "stdout",
          "output_type": "stream",
          "text": [
            "Train Loss: 0.1520 | Train Acc: 99.35%\n",
            "Val Loss: 1.6211 | Val Acc: 35.04%\n",
            "\n",
            "              precision    recall  f1-score   support\n",
            "\n",
            "      casual       0.31      0.30      0.31        30\n",
            "      formal       0.48      0.46      0.47        24\n",
            "      sporty       0.00      0.00      0.00        10\n",
            "  streetwear       0.45      0.49      0.47        37\n",
            "     vintage       0.14      0.19      0.16        16\n",
            "\n",
            "    accuracy                           0.35       117\n",
            "   macro avg       0.27      0.29      0.28       117\n",
            "weighted avg       0.34      0.35      0.34       117\n",
            "\n"
          ]
        },
        {
          "name": "stderr",
          "output_type": "stream",
          "text": [
            "Epoch 14/20: 100%|██████████| 15/15 [01:03<00:00,  4.24s/it]\n"
          ]
        },
        {
          "name": "stdout",
          "output_type": "stream",
          "text": [
            "Train Loss: 0.1149 | Train Acc: 99.78%\n",
            "Val Loss: 1.6716 | Val Acc: 36.75%\n",
            "\n",
            "              precision    recall  f1-score   support\n",
            "\n",
            "      casual       0.35      0.30      0.32        30\n",
            "      formal       0.48      0.50      0.49        24\n",
            "      sporty       0.29      0.20      0.24        10\n",
            "  streetwear       0.46      0.46      0.46        37\n",
            "     vintage       0.14      0.19      0.16        16\n",
            "\n",
            "    accuracy                           0.37       117\n",
            "   macro avg       0.34      0.33      0.33       117\n",
            "weighted avg       0.38      0.37      0.37       117\n",
            "\n"
          ]
        },
        {
          "name": "stderr",
          "output_type": "stream",
          "text": [
            "Epoch 15/20: 100%|██████████| 15/15 [01:01<00:00,  4.09s/it]\n"
          ]
        },
        {
          "name": "stdout",
          "output_type": "stream",
          "text": [
            "Train Loss: 0.0886 | Train Acc: 100.00%\n",
            "Val Loss: 1.7418 | Val Acc: 40.17%\n",
            "\n",
            "              precision    recall  f1-score   support\n",
            "\n",
            "      casual       0.38      0.27      0.31        30\n",
            "      formal       0.50      0.54      0.52        24\n",
            "      sporty       0.38      0.30      0.33        10\n",
            "  streetwear       0.45      0.54      0.49        37\n",
            "     vintage       0.17      0.19      0.18        16\n",
            "\n",
            "    accuracy                           0.40       117\n",
            "   macro avg       0.38      0.37      0.37       117\n",
            "weighted avg       0.40      0.40      0.40       117\n",
            "\n"
          ]
        },
        {
          "name": "stderr",
          "output_type": "stream",
          "text": [
            "Epoch 16/20: 100%|██████████| 15/15 [00:45<00:00,  3.04s/it]\n"
          ]
        },
        {
          "name": "stdout",
          "output_type": "stream",
          "text": [
            "Train Loss: 0.0590 | Train Acc: 100.00%\n",
            "Val Loss: 1.7970 | Val Acc: 36.75%\n",
            "\n",
            "              precision    recall  f1-score   support\n",
            "\n",
            "      casual       0.40      0.27      0.32        30\n",
            "      formal       0.44      0.50      0.47        24\n",
            "      sporty       0.30      0.30      0.30        10\n",
            "  streetwear       0.43      0.43      0.43        37\n",
            "     vintage       0.17      0.25      0.21        16\n",
            "\n",
            "    accuracy                           0.37       117\n",
            "   macro avg       0.35      0.35      0.35       117\n",
            "weighted avg       0.38      0.37      0.37       117\n",
            "\n"
          ]
        },
        {
          "name": "stderr",
          "output_type": "stream",
          "text": [
            "Epoch 17/20: 100%|██████████| 15/15 [00:44<00:00,  2.99s/it]\n"
          ]
        },
        {
          "name": "stdout",
          "output_type": "stream",
          "text": [
            "Train Loss: 0.0588 | Train Acc: 100.00%\n",
            "Val Loss: 1.8213 | Val Acc: 39.32%\n",
            "\n",
            "              precision    recall  f1-score   support\n",
            "\n",
            "      casual       0.42      0.27      0.33        30\n",
            "      formal       0.43      0.54      0.48        24\n",
            "      sporty       0.33      0.30      0.32        10\n",
            "  streetwear       0.49      0.49      0.49        37\n",
            "     vintage       0.18      0.25      0.21        16\n",
            "\n",
            "    accuracy                           0.39       117\n",
            "   macro avg       0.37      0.37      0.36       117\n",
            "weighted avg       0.40      0.39      0.39       117\n",
            "\n"
          ]
        },
        {
          "name": "stderr",
          "output_type": "stream",
          "text": [
            "Epoch 18/20: 100%|██████████| 15/15 [00:44<00:00,  2.99s/it]\n"
          ]
        },
        {
          "name": "stdout",
          "output_type": "stream",
          "text": [
            "Train Loss: 0.0479 | Train Acc: 100.00%\n",
            "Val Loss: 1.8093 | Val Acc: 37.61%\n",
            "\n",
            "              precision    recall  f1-score   support\n",
            "\n",
            "      casual       0.43      0.33      0.38        30\n",
            "      formal       0.38      0.46      0.42        24\n",
            "      sporty       0.30      0.30      0.30        10\n",
            "  streetwear       0.48      0.41      0.44        37\n",
            "     vintage       0.21      0.31      0.25        16\n",
            "\n",
            "    accuracy                           0.38       117\n",
            "   macro avg       0.36      0.36      0.36       117\n",
            "weighted avg       0.40      0.38      0.38       117\n",
            "\n"
          ]
        },
        {
          "name": "stderr",
          "output_type": "stream",
          "text": [
            "Epoch 19/20: 100%|██████████| 15/15 [00:59<00:00,  3.99s/it]\n"
          ]
        },
        {
          "name": "stdout",
          "output_type": "stream",
          "text": [
            "Train Loss: 0.0360 | Train Acc: 99.57%\n",
            "Val Loss: 1.8494 | Val Acc: 35.90%\n",
            "\n",
            "              precision    recall  f1-score   support\n",
            "\n",
            "      casual       0.38      0.27      0.31        30\n",
            "      formal       0.44      0.50      0.47        24\n",
            "      sporty       0.27      0.30      0.29        10\n",
            "  streetwear       0.44      0.43      0.44        37\n",
            "     vintage       0.14      0.19      0.16        16\n",
            "\n",
            "    accuracy                           0.36       117\n",
            "   macro avg       0.34      0.34      0.33       117\n",
            "weighted avg       0.37      0.36      0.36       117\n",
            "\n"
          ]
        },
        {
          "name": "stderr",
          "output_type": "stream",
          "text": [
            "Epoch 20/20: 100%|██████████| 15/15 [00:48<00:00,  3.21s/it]\n"
          ]
        },
        {
          "name": "stdout",
          "output_type": "stream",
          "text": [
            "Train Loss: 0.0342 | Train Acc: 100.00%\n",
            "Val Loss: 1.8545 | Val Acc: 37.61%\n",
            "\n",
            "              precision    recall  f1-score   support\n",
            "\n",
            "      casual       0.42      0.27      0.33        30\n",
            "      formal       0.48      0.54      0.51        24\n",
            "      sporty       0.23      0.30      0.26        10\n",
            "  streetwear       0.46      0.46      0.46        37\n",
            "     vintage       0.14      0.19      0.16        16\n",
            "\n",
            "    accuracy                           0.38       117\n",
            "   macro avg       0.35      0.35      0.34       117\n",
            "weighted avg       0.39      0.38      0.38       117\n",
            "\n"
          ]
        }
      ],
      "source": [
        "from tqdm import tqdm\n",
        "from sklearn.metrics import classification_report\n",
        "\n",
        "num_epochs = 20\n",
        "\n",
        "for epoch in range(num_epochs):\n",
        "    model.train()\n",
        "    train_loss = 0\n",
        "    correct = 0\n",
        "    total = 0\n",
        "\n",
        "    for images, labels in tqdm(train_loader, desc=f\"Epoch {epoch+1}/{num_epochs}\"):\n",
        "        images, labels = images.to(device), labels.to(device)\n",
        "\n",
        "        optimizer.zero_grad()\n",
        "        outputs = model(images)\n",
        "        loss = criterion(outputs, labels)\n",
        "        loss.backward()\n",
        "        optimizer.step()\n",
        "\n",
        "        train_loss += loss.item()\n",
        "        _, predicted = torch.max(outputs, 1)\n",
        "        correct += (predicted == labels).sum().item()\n",
        "        total += labels.size(0)\n",
        "\n",
        "    train_acc = 100 * correct / total\n",
        "    print(f\"Train Loss: {train_loss/len(train_loader):.4f} | Train Acc: {train_acc:.2f}%\")\n",
        "\n",
        "    # --- Validation ---\n",
        "    model.eval()\n",
        "    val_loss = 0\n",
        "    correct = 0\n",
        "    total = 0\n",
        "\n",
        "    with torch.no_grad():\n",
        "        for images, labels in val_loader:\n",
        "            images, labels = images.to(device), labels.to(device)\n",
        "            outputs = model(images)\n",
        "            loss = criterion(outputs, labels)\n",
        "\n",
        "            val_loss += loss.item()\n",
        "            _, predicted = torch.max(outputs, 1)\n",
        "            correct += (predicted == labels).sum().item()\n",
        "            total += labels.size(0)\n",
        "\n",
        "    val_acc = 100 * correct / total\n",
        "    print(f\"Val Loss: {val_loss/len(val_loader):.4f} | Val Acc: {val_acc:.2f}%\\n\")\n",
        "\n",
        "    # ➕ Add this for classification report\n",
        "    y_true = []\n",
        "    y_pred = []\n",
        "    model.eval()\n",
        "    with torch.no_grad():\n",
        "        for images, labels in val_loader:\n",
        "            images, labels = images.to(device), labels.to(device)\n",
        "            outputs = model(images)\n",
        "            _, predicted = torch.max(outputs, 1)\n",
        "            y_true.extend(labels.cpu().numpy())\n",
        "            y_pred.extend(predicted.cpu().numpy())\n",
        "\n",
        "    print(classification_report(y_true, y_pred, target_names=label_encoder.classes_))\n",
        "\n"
      ]
    },
    {
      "cell_type": "code",
      "execution_count": 9,
      "metadata": {
        "id": "BJfzAP3R-jyj"
      },
      "outputs": [],
      "source": [
        "torch.save(model.state_dict(), \"efficientnet_fashion_model.pth\")"
      ]
    },
    {
      "cell_type": "code",
      "execution_count": 10,
      "metadata": {
        "id": "Z2s7kYPF-kgS"
      },
      "outputs": [],
      "source": [
        "def predict_image(image_path, model, transform, index_to_label):\n",
        "    model.eval()\n",
        "    image = Image.open(image_path).convert(\"RGB\")\n",
        "    image = transform(image).unsqueeze(0).to(device)\n",
        "\n",
        "    with torch.no_grad():\n",
        "        outputs = model(image)\n",
        "        _, predicted = torch.max(outputs, 1)\n",
        "\n",
        "    return index_to_label[predicted.item()]\n"
      ]
    },
    {
      "cell_type": "code",
      "execution_count": 11,
      "metadata": {
        "colab": {
          "base_uri": "https://localhost:8080/"
        },
        "id": "48LWsEH8SXnG",
        "outputId": "36c2d0dc-0119-4726-be6d-4f1edeb3f520"
      },
      "outputs": [
        {
          "name": "stdout",
          "output_type": "stream",
          "text": [
            "Predicted style: formal\n"
          ]
        }
      ],
      "source": [
        "image_path = \"Dataset/images/00892049-fashion_295.jpg\"\n",
        "index_to_label = {i: label for i, label in enumerate(label_encoder.classes_)}\n",
        "\n",
        "predicted_label = predict_image(image_path, model, val_transform, index_to_label)\n",
        "print(\"Predicted style:\", predicted_label)"
      ]
    },
    {
      "cell_type": "code",
      "execution_count": 12,
      "metadata": {},
      "outputs": [
        {
          "data": {
            "image/png": "[encoded data removed]",
            "text/plain": [
              "<Figure size 800x600 with 2 Axes>"
            ]
          },
          "metadata": {},
          "output_type": "display_data"
        }
      ],
      "source": [
        "from sklearn.metrics import confusion_matrix, ConfusionMatrixDisplay\n",
        "import matplotlib.pyplot as plt\n",
        "\n",
        "# After getting y_true and y_pred in your notebook:\n",
        "cm = confusion_matrix(y_true, y_pred)\n",
        "disp = ConfusionMatrixDisplay(confusion_matrix=cm, display_labels=label_encoder.classes_)\n",
        "fig, ax = plt.subplots(figsize=(8, 6))\n",
        "disp.plot(ax=ax, cmap='Blues')\n",
        "plt.title(\"CNN Confusion Matrix\")\n",
        "plt.savefig(\"cnn_confusion_matrix.png\")  # Save the image\n",
        "plt.show()"
      ]
    }
  ],
  "metadata": {
    "colab": {
      "provenance": []
    },
    "kernelspec": {
      "display_name": "venv",
      "language": "python",
      "name": "python3"
    },
    "language_info": {
      "codemirror_mode": {
        "name": "ipython",
        "version": 3
      },
      "file_extension": ".py",
      "mimetype": "text/x-python",
      "name": "python",
      "nbconvert_exporter": "python",
      "pygments_lexer": "ipython3",
      "version": "3.11.9"
    }
  },
  "nbformat": 4,
  "nbformat_minor": 0
}
